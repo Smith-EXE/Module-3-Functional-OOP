{
 "cells": [
  {
   "cell_type": "code",
   "execution_count": 5,
   "id": "085b3dcb-a235-444e-b1dd-3daa1c2e750e",
   "metadata": {},
   "outputs": [
    {
     "name": "stdout",
     "output_type": "stream",
     "text": [
      "[0, 1, 2, 2, 4]\n"
     ]
    }
   ],
   "source": [
    "arr = [0,2,4,1,2]\n",
    "arr.sort()\n",
    "print(arr)"
   ]
  },
  {
   "cell_type": "code",
   "execution_count": 7,
   "id": "0d5d8f0c-79bc-40cb-8596-93c760fe2c55",
   "metadata": {},
   "outputs": [],
   "source": [
    "class Solution:\n",
    "    def binarysearch(self, arr, k):\n",
    "        index = 0\n",
    "        for x in arr:\n",
    "            if (x == k):\n",
    "                return index\n",
    "            else:\n",
    "                index += 1"
   ]
  },
  {
   "cell_type": "code",
   "execution_count": null,
   "id": "2076beda-b869-4911-afbe-ea8a180440bd",
   "metadata": {},
   "outputs": [],
   "source": []
  }
 ],
 "metadata": {
  "kernelspec": {
   "display_name": "Python 3 (ipykernel)",
   "language": "python",
   "name": "python3"
  },
  "language_info": {
   "codemirror_mode": {
    "name": "ipython",
    "version": 3
   },
   "file_extension": ".py",
   "mimetype": "text/x-python",
   "name": "python",
   "nbconvert_exporter": "python",
   "pygments_lexer": "ipython3",
   "version": "3.12.4"
  }
 },
 "nbformat": 4,
 "nbformat_minor": 5
}
